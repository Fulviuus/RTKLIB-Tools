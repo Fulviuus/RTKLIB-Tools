{
 "metadata": {
  "name": ""
 },
 "nbformat": 3,
 "nbformat_minor": 0,
 "worksheets": [
  {
   "cells": [
    {
     "cell_type": "heading",
     "level": 1,
     "metadata": {},
     "source": [
      "Load Data"
     ]
    },
    {
     "cell_type": "heading",
     "level": 2,
     "metadata": {},
     "source": [
      "Load Data from raw ublox GPS observations"
     ]
    },
    {
     "cell_type": "markdown",
     "metadata": {},
     "source": [
      "This notebook is used to convert raw observation data in the form of ublox\u2019s proprietary message format into industry standard RINEX v3.02 format. This is then used to calculate static and kinematic positional solution files."
     ]
    },
    {
     "cell_type": "markdown",
     "metadata": {},
     "source": [
      "First we need to import the relevant utilities that contain the necessary functions to operate on the data.\n",
      "file_utils is used for navigating and verifying the directories that contains or will contain the observation data.\n",
      "rtklib_utils is for calling RTK and DGPS processes to observation. \n"
     ]
    },
    {
     "cell_type": "code",
     "collapsed": false,
     "input": [
      "from Utils.file_utils import *\n",
      "from Utils.rtklib_utils import *"
     ],
     "language": "python",
     "metadata": {},
     "outputs": [
      {
       "ename": "SyntaxError",
       "evalue": "invalid syntax (file_utils.py, line 105)",
       "output_type": "pyerr",
       "traceback": [
        "\u001b[1;36m  File \u001b[1;32m\"Utils\\file_utils.py\"\u001b[1;36m, line \u001b[1;32m105\u001b[0m\n\u001b[1;33m    print('Found local\\n' + filename, end = '\\n\\n')\u001b[0m\n\u001b[1;37m                                          ^\u001b[0m\n\u001b[1;31mSyntaxError\u001b[0m\u001b[1;31m:\u001b[0m invalid syntax\n"
       ]
      }
     ],
     "prompt_number": 4
    },
    {
     "cell_type": "markdown",
     "metadata": {},
     "source": [
      "Here we define the specific constants required to perform several tasks in the workflow. For downloading and fetching base station data for differential GPS corrections, we need to specify the FTP server address as well as the host path on the server containing ephemeris position data of satellite corrections. The station name of the particular continuously operated reference station is also the specified will be used as a part of the directory path for downloading the relevant observations that are on the same day as the starting observation specified in the converted RINEX files."
     ]
    },
    {
     "cell_type": "code",
     "collapsed": false,
     "input": [
      "server = 'ftp.ngs.noaa.gov'\n",
      "hostPath = '/cors/rinex/'\n",
      "station = 'paap'"
     ],
     "language": "python",
     "metadata": {},
     "outputs": []
    },
    {
     "cell_type": "markdown",
     "metadata": {},
     "source": [
      "In order to calculate the constellations or position of a given navigation satellites at any time during the observation, we need to specify the URL database containing up-to-date NORAD Two-Line Element Sets that define each satellite trajectory, as well as the name of the downloaded you would like to specify."
     ]
    },
    {
     "cell_type": "code",
     "collapsed": false,
     "input": [
      "noradUrl = 'http://www.celestrak.com/NORAD/elements/gps-ops.txt'\n",
      "noradFile = 'gps-ops.txt'"
     ],
     "language": "python",
     "metadata": {},
     "outputs": []
    },
    {
     "cell_type": "markdown",
     "metadata": {},
     "source": [
      "Here we specify the complete path for RTKLIB\u2019s compiled binaries for command user interface programs. Rather on the fact whether these CUI have been defined in your shell environment, path can be made explicitly here so that it is possible to conveniently change or upgrade used versions of RTKLIB"
     ]
    },
    {
     "cell_type": "code",
     "collapsed": false,
     "input": [
      "rnx2rtkp = '/home/ruffin/git/RTKLIB/app/rnx2rtkp/gcc/rnx2rtkp'\n",
      "pos2kml  = '/home/ruffin/git/RTKLIB/app/pos2kml/gcc/pos2kml'\n",
      "convbin  = '/home/ruffin/git/RTKLIB/app/convbin/gcc/convbin'"
     ],
     "language": "python",
     "metadata": {},
     "outputs": [],
     "prompt_number": 2
    },
    {
     "cell_type": "markdown",
     "metadata": {},
     "source": [
      "Here we specify the \u201cin\u201d and  \u201cout\u201d file path directories. These directories are used to hold multiple observation files for batch operations. For every ublox log file, we will generate a folder of the same name that will contain observations in RINEX format with in \u201cindir\u201d. \u201coutdir\u201d will be used later to store position solutions. We also checked to make sure that both directories exist in their path contains proper syntax."
     ]
    },
    {
     "cell_type": "code",
     "collapsed": false,
     "input": [
      "indir = '/home/ruffin/Documents/Data/in/'\n",
      "outdir = '/home/ruffin/Documents/Data/out/'\n",
      "indir = checkDir(indir,'r')\n",
      "outdir = checkDir(outdir,'r')"
     ],
     "language": "python",
     "metadata": {},
     "outputs": [],
     "prompt_number": 3
    },
    {
     "cell_type": "markdown",
     "metadata": {},
     "source": [
      "Here for every observation file found within the \u201cindir\u201d directory, we convert the log file into RINEX format, then download the relevant CORS data for that day and date."
     ]
    },
    {
     "cell_type": "code",
     "collapsed": false,
     "input": [
      "files = findFiles(indir,'.ubx')\n",
      "for file in files:\n",
      "    convbinFile(indir, file, convbin)\n",
      "    #fetchData(indir, file, server, hostPath, station)"
     ],
     "language": "python",
     "metadata": {},
     "outputs": [
      {
       "output_type": "stream",
       "stream": "stdout",
       "text": [
        "Running \n",
        "/home/ruffin/git/RTKLIB/app/convbin/gcc/convbin /home/ruffin/Documents/Data/in/CMU_center/CMU_center.ubx -v 3.02 -od -os -oi -ot -ol\n"
       ]
      }
     ],
     "prompt_number": 4
    },
    {
     "cell_type": "markdown",
     "metadata": {},
     "source": [
      "The \u201cindir\u201d directory will now be filled with CORS compressed archives files that will need to be decompressed."
     ]
    },
    {
     "cell_type": "code",
     "collapsed": false,
     "input": [
      "decompressData(indir)"
     ],
     "language": "python",
     "metadata": {},
     "outputs": [],
     "prompt_number": 8
    },
    {
     "cell_type": "markdown",
     "metadata": {},
     "source": [
      "Here we download the necessary NORAD Two-Line Element Sets that define each satellite trajectory."
     ]
    },
    {
     "cell_type": "code",
     "collapsed": false,
     "input": [
      "getURL(noradUrl,indir,noradFile)"
     ],
     "language": "python",
     "metadata": {},
     "outputs": []
    },
    {
     "cell_type": "markdown",
     "metadata": {},
     "source": [
      "(Optional for training machine learning)\n",
      "Here we apply a function that will generate more observation by extrapolating measurements from the recorded data set and applying a series of virtual instructions; a rotating half hemisphere that iterates between every ephemeris of all the observed satellites. This will create additional folders or versions of the original given dataset. Retrieving NORAD Two-Line Element data will be necessary before this step.\n"
     ]
    },
    {
     "cell_type": "code",
     "collapsed": false,
     "input": [
      "generateData(indir, noradFile)"
     ],
     "language": "python",
     "metadata": {},
     "outputs": [
      {
       "output_type": "stream",
       "stream": "stdout",
       "text": [
        "reading: /home/ruffin/Documents/Data/in/CMU_center/CMU_center.obs\n",
        "['G04', 'G23', 'G13', 'G17', 'G10']"
       ]
      },
      {
       "output_type": "stream",
       "stream": "stdout",
       "text": [
        "\n",
        "['G23', 'G13', 'G17', 'G10', 'G05']"
       ]
      },
      {
       "output_type": "stream",
       "stream": "stdout",
       "text": [
        "\n",
        "['G13', 'G17', 'G10', 'G05']"
       ]
      },
      {
       "output_type": "stream",
       "stream": "stdout",
       "text": [
        "\n",
        "['G17', 'G10', 'G05']"
       ]
      },
      {
       "output_type": "stream",
       "stream": "stdout",
       "text": [
        "\n",
        "['G10', 'G05', 'G12', 'G02']"
       ]
      },
      {
       "output_type": "stream",
       "stream": "stdout",
       "text": [
        "\n",
        "['G05', 'G12', 'G02', 'G25']"
       ]
      },
      {
       "output_type": "stream",
       "stream": "stdout",
       "text": [
        "\n",
        "['G04', 'G23', 'G12', 'G02', 'G25']"
       ]
      },
      {
       "output_type": "stream",
       "stream": "stdout",
       "text": [
        "\n",
        "['G04', 'G23', 'G13', 'G02', 'G25']"
       ]
      },
      {
       "output_type": "stream",
       "stream": "stdout",
       "text": [
        "\n",
        "['G04', 'G23', 'G13', 'G17', 'G25']"
       ]
      },
      {
       "output_type": "stream",
       "stream": "stdout",
       "text": [
        "\n"
       ]
      }
     ],
     "prompt_number": 9
    },
    {
     "cell_type": "markdown",
     "metadata": {},
     "source": [
      "Here we will iterate through every folder we've created, being careful we process in numerical order. This is where positional solutions are solved for and saved in to \u201coutdir\u201d, using the combination of observations from both the rover and base station. Static and kinematic solutions are generated for each unique observation. Where duplicated versions used for machine mining; kinematic pose solutions are also generated but static pose solutions are simply duplicated from the original observations folder to reduce competition time and provide the most accurate ground truth for error estimation in static points."
     ]
    },
    {
     "cell_type": "code",
     "collapsed": false,
     "input": [
      "folders = findFolders(indir)\n",
      "folders.sort(key=lambda x: x.lower())\n",
      "for folder in folders:\n",
      "    print(folder)\n",
      "    rnx2rtkpFile(indir, folder, outdir, station, rnx2rtkp)\n",
      "    #pos2kmlFile(outdir, folder, outdir, pos2kml)\n",
      "    "
     ],
     "language": "python",
     "metadata": {},
     "outputs": [
      {
       "output_type": "stream",
       "stream": "stdout",
       "text": [
        "CMU_center\n",
        "CMU_center\n",
        "\n",
        "Running \n",
        "/home/ruffin/git/RTKLIB/app/rnx2rtkp/gcc/rnx2rtkp -k /home/ruffin/Documents/Data/in/rtkoptions_static.conf -o /home/ruffin/Documents/Data/out/CMU_center/CMU_center_static.pos /home/ruffin/Documents/Data/in/CMU_center/CMU_center.obs /home/ruffin/Documents/Data/in/paap2090.13o /home/ruffin/Documents/Data/in/CMU_center/CMU_center.nav /home/ruffin/Documents/Data/in/igr17510.sp3 /home/ruffin/Documents/Data/in/CMU_center/CMU_center.sbs\n",
        "\n",
        "Running "
       ]
      },
      {
       "output_type": "stream",
       "stream": "stdout",
       "text": [
        "\n",
        "/home/ruffin/git/RTKLIB/app/rnx2rtkp/gcc/rnx2rtkp -k /home/ruffin/Documents/Data/in/rtkoptions_kinetic.conf -o /home/ruffin/Documents/Data/out/CMU_center/CMU_center_kinetic.pos /home/ruffin/Documents/Data/in/CMU_center/CMU_center.obs /home/ruffin/Documents/Data/in/paap2090.13o /home/ruffin/Documents/Data/in/CMU_center/CMU_center.nav /home/ruffin/Documents/Data/in/igr17510.sp3 /home/ruffin/Documents/Data/in/CMU_center/CMU_center.sbs\n",
        "CMU_center.v0"
       ]
      },
      {
       "output_type": "stream",
       "stream": "stdout",
       "text": [
        "\n",
        "CMU_center.v0\n",
        "Copy static from original\n",
        "\n",
        "Running \n",
        "/home/ruffin/git/RTKLIB/app/rnx2rtkp/gcc/rnx2rtkp -k /home/ruffin/Documents/Data/in/rtkoptions_kinetic.conf -o /home/ruffin/Documents/Data/out/CMU_center.v0/CMU_center.v0_kinetic.pos /home/ruffin/Documents/Data/in/CMU_center.v0/CMU_center.v0.obs /home/ruffin/Documents/Data/in/paap2090.13o /home/ruffin/Documents/Data/in/CMU_center.v0/CMU_center.v0.nav /home/ruffin/Documents/Data/in/igr17510.sp3 /home/ruffin/Documents/Data/in/CMU_center.v0/CMU_center.v0.sbs\n",
        "CMU_center.v1"
       ]
      },
      {
       "output_type": "stream",
       "stream": "stdout",
       "text": [
        "\n",
        "CMU_center.v1\n",
        "Copy static from original\n",
        "\n",
        "Running \n",
        "/home/ruffin/git/RTKLIB/app/rnx2rtkp/gcc/rnx2rtkp -k /home/ruffin/Documents/Data/in/rtkoptions_kinetic.conf -o /home/ruffin/Documents/Data/out/CMU_center.v1/CMU_center.v1_kinetic.pos /home/ruffin/Documents/Data/in/CMU_center.v1/CMU_center.v1.obs /home/ruffin/Documents/Data/in/paap2090.13o /home/ruffin/Documents/Data/in/CMU_center.v1/CMU_center.v1.nav /home/ruffin/Documents/Data/in/igr17510.sp3 /home/ruffin/Documents/Data/in/CMU_center.v1/CMU_center.v1.sbs\n",
        "CMU_center.v2"
       ]
      },
      {
       "output_type": "stream",
       "stream": "stdout",
       "text": [
        "\n",
        "CMU_center.v2\n",
        "Copy static from original\n",
        "\n",
        "Running \n",
        "/home/ruffin/git/RTKLIB/app/rnx2rtkp/gcc/rnx2rtkp -k /home/ruffin/Documents/Data/in/rtkoptions_kinetic.conf -o /home/ruffin/Documents/Data/out/CMU_center.v2/CMU_center.v2_kinetic.pos /home/ruffin/Documents/Data/in/CMU_center.v2/CMU_center.v2.obs /home/ruffin/Documents/Data/in/paap2090.13o /home/ruffin/Documents/Data/in/CMU_center.v2/CMU_center.v2.nav /home/ruffin/Documents/Data/in/igr17510.sp3 /home/ruffin/Documents/Data/in/CMU_center.v2/CMU_center.v2.sbs\n",
        "CMU_center.v3"
       ]
      },
      {
       "output_type": "stream",
       "stream": "stdout",
       "text": [
        "\n",
        "CMU_center.v3\n",
        "Copy static from original\n",
        "\n",
        "Running \n",
        "/home/ruffin/git/RTKLIB/app/rnx2rtkp/gcc/rnx2rtkp -k /home/ruffin/Documents/Data/in/rtkoptions_kinetic.conf -o /home/ruffin/Documents/Data/out/CMU_center.v3/CMU_center.v3_kinetic.pos /home/ruffin/Documents/Data/in/CMU_center.v3/CMU_center.v3.obs /home/ruffin/Documents/Data/in/paap2090.13o /home/ruffin/Documents/Data/in/CMU_center.v3/CMU_center.v3.nav /home/ruffin/Documents/Data/in/igr17510.sp3 /home/ruffin/Documents/Data/in/CMU_center.v3/CMU_center.v3.sbs\n",
        "CMU_center.v4"
       ]
      },
      {
       "output_type": "stream",
       "stream": "stdout",
       "text": [
        "\n",
        "CMU_center.v4\n",
        "Copy static from original\n",
        "\n",
        "Running \n",
        "/home/ruffin/git/RTKLIB/app/rnx2rtkp/gcc/rnx2rtkp -k /home/ruffin/Documents/Data/in/rtkoptions_kinetic.conf -o /home/ruffin/Documents/Data/out/CMU_center.v4/CMU_center.v4_kinetic.pos /home/ruffin/Documents/Data/in/CMU_center.v4/CMU_center.v4.obs /home/ruffin/Documents/Data/in/paap2090.13o /home/ruffin/Documents/Data/in/CMU_center.v4/CMU_center.v4.nav /home/ruffin/Documents/Data/in/igr17510.sp3 /home/ruffin/Documents/Data/in/CMU_center.v4/CMU_center.v4.sbs\n",
        "CMU_center.v5"
       ]
      },
      {
       "output_type": "stream",
       "stream": "stdout",
       "text": [
        "\n",
        "CMU_center.v5\n",
        "Copy static from original\n",
        "\n",
        "Running \n",
        "/home/ruffin/git/RTKLIB/app/rnx2rtkp/gcc/rnx2rtkp -k /home/ruffin/Documents/Data/in/rtkoptions_kinetic.conf -o /home/ruffin/Documents/Data/out/CMU_center.v5/CMU_center.v5_kinetic.pos /home/ruffin/Documents/Data/in/CMU_center.v5/CMU_center.v5.obs /home/ruffin/Documents/Data/in/paap2090.13o /home/ruffin/Documents/Data/in/CMU_center.v5/CMU_center.v5.nav /home/ruffin/Documents/Data/in/igr17510.sp3 /home/ruffin/Documents/Data/in/CMU_center.v5/CMU_center.v5.sbs\n",
        "CMU_center.v6"
       ]
      },
      {
       "output_type": "stream",
       "stream": "stdout",
       "text": [
        "\n",
        "CMU_center.v6\n",
        "Copy static from original\n",
        "\n",
        "Running \n",
        "/home/ruffin/git/RTKLIB/app/rnx2rtkp/gcc/rnx2rtkp -k /home/ruffin/Documents/Data/in/rtkoptions_kinetic.conf -o /home/ruffin/Documents/Data/out/CMU_center.v6/CMU_center.v6_kinetic.pos /home/ruffin/Documents/Data/in/CMU_center.v6/CMU_center.v6.obs /home/ruffin/Documents/Data/in/paap2090.13o /home/ruffin/Documents/Data/in/CMU_center.v6/CMU_center.v6.nav /home/ruffin/Documents/Data/in/igr17510.sp3 /home/ruffin/Documents/Data/in/CMU_center.v6/CMU_center.v6.sbs\n",
        "CMU_center.v7"
       ]
      },
      {
       "output_type": "stream",
       "stream": "stdout",
       "text": [
        "\n",
        "CMU_center.v7\n",
        "Copy static from original\n",
        "\n",
        "Running \n",
        "/home/ruffin/git/RTKLIB/app/rnx2rtkp/gcc/rnx2rtkp -k /home/ruffin/Documents/Data/in/rtkoptions_kinetic.conf -o /home/ruffin/Documents/Data/out/CMU_center.v7/CMU_center.v7_kinetic.pos /home/ruffin/Documents/Data/in/CMU_center.v7/CMU_center.v7.obs /home/ruffin/Documents/Data/in/paap2090.13o /home/ruffin/Documents/Data/in/CMU_center.v7/CMU_center.v7.nav /home/ruffin/Documents/Data/in/igr17510.sp3 /home/ruffin/Documents/Data/in/CMU_center.v7/CMU_center.v7.sbs\n",
        "CMU_center.v8"
       ]
      },
      {
       "output_type": "stream",
       "stream": "stdout",
       "text": [
        "\n",
        "CMU_center.v8\n",
        "Copy static from original\n",
        "\n",
        "Running \n",
        "/home/ruffin/git/RTKLIB/app/rnx2rtkp/gcc/rnx2rtkp -k /home/ruffin/Documents/Data/in/rtkoptions_kinetic.conf -o /home/ruffin/Documents/Data/out/CMU_center.v8/CMU_center.v8_kinetic.pos /home/ruffin/Documents/Data/in/CMU_center.v8/CMU_center.v8.obs /home/ruffin/Documents/Data/in/paap2090.13o /home/ruffin/Documents/Data/in/CMU_center.v8/CMU_center.v8.nav /home/ruffin/Documents/Data/in/igr17510.sp3 /home/ruffin/Documents/Data/in/CMU_center.v8/CMU_center.v8.sbs\n"
       ]
      }
     ],
     "prompt_number": 12
    }
   ],
   "metadata": {}
  }
 ]
}