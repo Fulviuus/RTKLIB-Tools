{
 "metadata": {
  "name": "Untitled0"
 },
 "nbformat": 3,
 "nbformat_minor": 0,
 "worksheets": [
  {
   "cells": [
    {
     "cell_type": "code",
     "collapsed": false,
     "input": [
      "from matplotlib import pyplot, mpl\n",
      "from pandas.lib import Timestamp\n",
      "import pandas as pd\n",
      "import scipy as sp\n",
      "import numpy as np\n",
      "import pylab as pl\n",
      "import geopy as gp\n",
      "import sklearn as sk\n",
      "import ephem\n",
      "from plot_utils import *\n",
      "from file_utils import *\n",
      "from ephem_utils import *\n",
      "\n",
      "from sklearn import svm\n",
      "from sklearn.metrics import roc_curve, auc"
     ],
     "language": "python",
     "metadata": {},
     "outputs": [
      {
       "output_type": "stream",
       "stream": "stderr",
       "text": [
        "/usr/lib/python3.3/importlib/_bootstrap.py:313: UserWarning: Module pytz was already imported from /usr/local/lib/python3.3/dist-packages/pytz/__init__.py, but /usr/lib/python3/dist-packages is being added to sys.path\n",
        "  return f(*args, **kwds)\n",
        "/usr/lib/python3.3/importlib/_bootstrap.py:313: UserWarning: Module dateutil was already imported from /usr/local/lib/python3.3/dist-packages/dateutil/__init__.py, but /usr/lib/python3/dist-packages is being added to sys.path\n",
        "  return f(*args, **kwds)\n"
       ]
      }
     ],
     "prompt_number": 1
    },
    {
     "cell_type": "code",
     "collapsed": false,
     "input": [
      "#import datetime\n",
      "# Setup lat long of telescope\n",
      "oxford = ephem.Observer()\n",
      "oxford.lat = np.deg2rad(40.441814610)\n",
      "oxford.long = np.deg2rad(-79.943959327)\n",
      "oxford.date = datetime.datetime.now()\n",
      "\n",
      "# Load Satellite TLE data.\n",
      "l1 = 'GPS BIIR-12 (PRN 23)'\n",
      "l2 = '1 28361U 04023A   13213.45207733 -.00000028  00000-0  00000+0 0  6256'\n",
      "l3 = '2 28361  54.7212 277.7598 0088963 198.1655 188.7394  2.00563458 66743' \n",
      "biif1 = ephem.readtle(l1,l2,l3)\n",
      "\n",
      "# Make some datetimes\n",
      "midnight = datetime.datetime(2013,7,28,0,4,42)\n",
      "dt  = [midnight + timedelta(seconds=.1*x) for x in range(0, 15*60*10)]\n",
      "\n",
      "# Compute satellite locations at each datetime\n",
      "sat_alt, sat_az = [], []\n",
      "for date in dt:\n",
      "    oxford.date = date\n",
      "    biif1.compute(oxford)\n",
      "    sat_alt.append(np.rad2deg(biif1.alt))\n",
      "    sat_az.append(np.rad2deg(biif1.az))\n",
      "    \n",
      "# Plot satellite tracks\n",
      "pl.subplot(211)\n",
      "pl.plot(dt, sat_alt)\n",
      "pl.ylabel(\"Altitude (deg)\")\n",
      "pl.xticks(rotation=25)\n",
      "pl.subplot(212)\n",
      "pl.plot(dt, sat_az)\n",
      "pl.ylabel(\"Azimuth (deg)\")\n",
      "pl.xticks(rotation=25)\n",
      "pl.show()\n",
      "\n",
      "# Plot satellite track in polar coordinates\n",
      "pl.polar(np.deg2rad(sat_az), 90-np.array(sat_alt))\n",
      "pl.ylim(0,90)\n",
      "pl.show()"
     ],
     "language": "python",
     "metadata": {},
     "outputs": [
      {
       "ename": "AttributeError",
       "evalue": "type object 'datetime.datetime' has no attribute 'datetime'",
       "output_type": "pyerr",
       "traceback": [
        "\u001b[0;31m---------------------------------------------------------------------------\u001b[0m\n\u001b[0;31mAttributeError\u001b[0m                            Traceback (most recent call last)",
        "\u001b[0;32m<ipython-input-2-b3fdbcc708af>\u001b[0m in \u001b[0;36m<module>\u001b[0;34m()\u001b[0m\n\u001b[1;32m      4\u001b[0m \u001b[0moxford\u001b[0m\u001b[0;34m.\u001b[0m\u001b[0mlat\u001b[0m \u001b[0;34m=\u001b[0m \u001b[0mnp\u001b[0m\u001b[0;34m.\u001b[0m\u001b[0mdeg2rad\u001b[0m\u001b[0;34m(\u001b[0m\u001b[0;36m40.441814610\u001b[0m\u001b[0;34m)\u001b[0m\u001b[0;34m\u001b[0m\u001b[0m\n\u001b[1;32m      5\u001b[0m \u001b[0moxford\u001b[0m\u001b[0;34m.\u001b[0m\u001b[0mlong\u001b[0m \u001b[0;34m=\u001b[0m \u001b[0mnp\u001b[0m\u001b[0;34m.\u001b[0m\u001b[0mdeg2rad\u001b[0m\u001b[0;34m(\u001b[0m\u001b[0;34m-\u001b[0m\u001b[0;36m79.943959327\u001b[0m\u001b[0;34m)\u001b[0m\u001b[0;34m\u001b[0m\u001b[0m\n\u001b[0;32m----> 6\u001b[0;31m \u001b[0moxford\u001b[0m\u001b[0;34m.\u001b[0m\u001b[0mdate\u001b[0m \u001b[0;34m=\u001b[0m \u001b[0mdatetime\u001b[0m\u001b[0;34m.\u001b[0m\u001b[0mdatetime\u001b[0m\u001b[0;34m.\u001b[0m\u001b[0mnow\u001b[0m\u001b[0;34m(\u001b[0m\u001b[0;34m)\u001b[0m\u001b[0;34m\u001b[0m\u001b[0m\n\u001b[0m\u001b[1;32m      7\u001b[0m \u001b[0;34m\u001b[0m\u001b[0m\n\u001b[1;32m      8\u001b[0m \u001b[0;31m# Load Satellite TLE data.\u001b[0m\u001b[0;34m\u001b[0m\u001b[0;34m\u001b[0m\u001b[0m\n",
        "\u001b[0;31mAttributeError\u001b[0m: type object 'datetime.datetime' has no attribute 'datetime'"
       ]
      }
     ],
     "prompt_number": 2
    },
    {
     "cell_type": "code",
     "collapsed": false,
     "input": [
      "gatech = ephem.Observer()\n",
      "gatech.lon, gatech.lat = '-84.39733', '33.775867'\n",
      "gatech.date = '1984/5/30 16:22:56'   # 12:22:56 EDT\n",
      "sun, moon = ephem.Sun(), ephem.Moon()\n",
      "sun.compute(gatech)\n",
      "moon.compute(gatech)\n",
      "print(sun.alt, sun.az)\n",
      "print(moon.alt, moon.az)"
     ],
     "language": "python",
     "metadata": {},
     "outputs": []
    },
    {
     "cell_type": "code",
     "collapsed": false,
     "input": [
      "obsfile = '/home/ruffin/Documents/Data/in/FlagStaff_center/FlagStaff_center.obs'"
     ],
     "language": "python",
     "metadata": {},
     "outputs": []
    },
    {
     "cell_type": "code",
     "collapsed": false,
     "input": [
      "df = pd.read_csv(obsfile, skiprows=23)"
     ],
     "language": "python",
     "metadata": {},
     "outputs": []
    },
    {
     "cell_type": "code",
     "collapsed": false,
     "input": [
      "df.head(20)"
     ],
     "language": "python",
     "metadata": {},
     "outputs": []
    },
    {
     "cell_type": "code",
     "collapsed": false,
     "input": [
      "# Download the file from `url` and save it locally under `file_name`:\n",
      "url = 'http://www.celestrak.com/NORAD/elements/gps-ops.txt'\n",
      "indir = '/home/ruffin/Documents/Data/in/'\n",
      "filename = 'gps-ops.txt'\n",
      "getURL(url,indir,filename)\n",
      "satlist = loadTLE(indir+filename)\n",
      "print(satlist)"
     ],
     "language": "python",
     "metadata": {},
     "outputs": [
      {
       "output_type": "stream",
       "stream": "stdout",
       "text": [
        "32 satellites loaded into list\n",
        "[<ephem.EarthSatellite '32' at 0x7f12b407c2f0>, <ephem.EarthSatellite '26' at 0x7f12a6901870>, <ephem.EarthSatellite '09' at 0x7f12a69019d0>, <ephem.EarthSatellite '04' at 0x7f12a6901b30>, <ephem.EarthSatellite '06' at 0x7f12a6901c90>, <ephem.EarthSatellite '03' at 0x7f12a6901df0>, <ephem.EarthSatellite '10' at 0x7f12a36c4030>, <ephem.EarthSatellite '13' at 0x7f12a36c4190>, <ephem.EarthSatellite '08' at 0x7f12a36c42f0>, <ephem.EarthSatellite '11' at 0x7f12a36c4450>, <ephem.EarthSatellite '20' at 0x7f12a36c45b0>, <ephem.EarthSatellite '28' at 0x7f12a36c4710>, <ephem.EarthSatellite '14' at 0x7f12a36c4870>, <ephem.EarthSatellite '18' at 0x7f12a36c49d0>, <ephem.EarthSatellite '16' at 0x7f12a36c4b30>, <ephem.EarthSatellite '21' at 0x7f12a36c4c90>, <ephem.EarthSatellite '22' at 0x7f12a36c4df0>, <ephem.EarthSatellite '19' at 0x7f12a36c5030>, <ephem.EarthSatellite '23' at 0x7f12a36c5190>, <ephem.EarthSatellite '02' at 0x7f12a36c52f0>, <ephem.EarthSatellite '17' at 0x7f12a36c5450>, <ephem.EarthSatellite '31' at 0x7f12a36c55b0>, <ephem.EarthSatellite '12' at 0x7f12a36c5710>, <ephem.EarthSatellite '15' at 0x7f12a36c5870>, <ephem.EarthSatellite '29' at 0x7f12a36c59d0>, <ephem.EarthSatellite '07' at 0x7f12a36c5b30>, <ephem.EarthSatellite '30' at 0x7f12a36c5c90>, <ephem.EarthSatellite '05' at 0x7f12a36c5df0>, <ephem.EarthSatellite '25' at 0x7f12a36c6030>, <ephem.EarthSatellite '01' at 0x7f12a36c6190>, <ephem.EarthSatellite '24' at 0x7f12a36c62f0>, <ephem.EarthSatellite '27' at 0x7f12a36c6450>]\n"
       ]
      }
     ],
     "prompt_number": 2
    },
    {
     "cell_type": "code",
     "collapsed": false,
     "input": [
      "line = 'GPS BIIA-10 (PRN 32)'\n",
      "[s[:-1] for s in line.split() if s[:-1].isdigit()]"
     ],
     "language": "python",
     "metadata": {},
     "outputs": [
      {
       "output_type": "pyout",
       "prompt_number": 1,
       "text": [
        "['32']"
       ]
      }
     ],
     "prompt_number": 1
    },
    {
     "cell_type": "code",
     "collapsed": false,
     "input": [],
     "language": "python",
     "metadata": {},
     "outputs": [],
     "prompt_number": 11
    },
    {
     "cell_type": "code",
     "collapsed": false,
     "input": [],
     "language": "python",
     "metadata": {},
     "outputs": [],
     "prompt_number": 12
    },
    {
     "cell_type": "code",
     "collapsed": false,
     "input": [
      "reference = reference = gp.point.Point(40.441814610, -79.943959327, 250)\n",
      "getSatConsts(satlist,['06','32'], datetime(2013,7,28,0,4,42), reference)"
     ],
     "language": "python",
     "metadata": {},
     "outputs": [
      {
       "output_type": "pyout",
       "prompt_number": 4,
       "text": [
        "[['32', -23.591353864913568, 27.200166275159845],\n",
        " ['06', -85.32314658352783, 264.7794958553078]]"
       ]
      }
     ],
     "prompt_number": 4
    },
    {
     "cell_type": "code",
     "collapsed": false,
     "input": [],
     "language": "python",
     "metadata": {},
     "outputs": []
    }
   ],
   "metadata": {}
  }
 ]
}