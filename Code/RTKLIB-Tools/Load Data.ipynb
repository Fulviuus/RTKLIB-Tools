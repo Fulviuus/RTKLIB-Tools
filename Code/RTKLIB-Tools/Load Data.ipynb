{
 "metadata": {
  "name": "Load Data"
 },
 "nbformat": 3,
 "nbformat_minor": 0,
 "worksheets": [
  {
   "cells": [
    {
     "cell_type": "code",
     "collapsed": false,
     "input": [
      "from plot_utils import *\n",
      "from file_utils import *\n",
      "from rtklib_utils import *"
     ],
     "language": "python",
     "metadata": {},
     "outputs": [
      {
       "output_type": "stream",
       "stream": "stderr",
       "text": [
        "/usr/lib/python3.3/importlib/_bootstrap.py:313: UserWarning: Module pytz was already imported from /usr/local/lib/python3.3/dist-packages/pytz/__init__.py, but /usr/lib/python3/dist-packages is being added to sys.path\n",
        "  return f(*args, **kwds)\n",
        "/usr/lib/python3.3/importlib/_bootstrap.py:313: UserWarning: Module dateutil was already imported from /usr/local/lib/python3.3/dist-packages/dateutil/__init__.py, but /usr/lib/python3/dist-packages is being added to sys.path\n",
        "  return f(*args, **kwds)\n"
       ]
      }
     ],
     "prompt_number": 1
    },
    {
     "cell_type": "code",
     "collapsed": false,
     "input": [
      "server = 'ftp.ngs.noaa.gov'\n",
      "hostPath = '/cors/rinex/'\n",
      "station = 'paap'\n",
      "\n",
      "noradUrl = 'http://www.celestrak.com/NORAD/elements/gps-ops.txt'\n",
      "noradFile = 'gps-ops.txt'\n",
      "\n",
      "rnx2rtkp = '/home/ruffin/git/RTKLIB/app/rnx2rtkp/gcc/rnx2rtkp'\n",
      "pos2kml  = '/home/ruffin/git/RTKLIB/app/pos2kml/gcc/pos2kml'\n",
      "convbin  = '/home/ruffin/git/RTKLIB/app/convbin/gcc/convbin'"
     ],
     "language": "python",
     "metadata": {},
     "outputs": [],
     "prompt_number": 2
    },
    {
     "cell_type": "code",
     "collapsed": false,
     "input": [
      "indir = '/home/ruffin/Documents/Data/in/'\n",
      "outdir = '/home/ruffin/Documents/Data/out/'\n",
      "indir = checkDir(indir,'r')\n",
      "outdir = checkDir(outdir,'r')"
     ],
     "language": "python",
     "metadata": {},
     "outputs": [],
     "prompt_number": 3
    },
    {
     "cell_type": "code",
     "collapsed": false,
     "input": [
      "files = findFiles(indir,'.ubx')\n",
      "for file in files:\n",
      "    convbinFile(indir, file, convbin)\n",
      "    #fetchData(indir, file, server, hostPath, station)\n",
      "    #genData(indir, file)"
     ],
     "language": "python",
     "metadata": {},
     "outputs": [
      {
       "output_type": "stream",
       "stream": "stdout",
       "text": [
        "Running \n",
        "/home/ruffin/git/RTKLIB/app/convbin/gcc/convbin /home/ruffin/Documents/Data/in/CMU_center/CMU_center.ubx -v 3.02 -od -os -oi -ot -ol\n"
       ]
      }
     ],
     "prompt_number": 4
    },
    {
     "cell_type": "code",
     "collapsed": false,
     "input": [
      "decompressData(indir)"
     ],
     "language": "python",
     "metadata": {},
     "outputs": [],
     "prompt_number": 8
    },
    {
     "cell_type": "code",
     "collapsed": false,
     "input": [
      "# Download the file from `url` and save it locally under `file_name`:\n",
      "getURL(noradUrl,indir,noradFile)\n",
      "generateData(indir, noradFile)"
     ],
     "language": "python",
     "metadata": {},
     "outputs": [
      {
       "output_type": "stream",
       "stream": "stdout",
       "text": [
        "reading: /home/ruffin/Documents/Data/in/CMU_center/CMU_center.obs\n",
        "['G04', 'G23', 'G13', 'G17', 'G10']"
       ]
      },
      {
       "output_type": "stream",
       "stream": "stdout",
       "text": [
        "\n",
        "['G23', 'G13', 'G17', 'G10', 'G05']"
       ]
      },
      {
       "output_type": "stream",
       "stream": "stdout",
       "text": [
        "\n",
        "['G13', 'G17', 'G10', 'G05']"
       ]
      },
      {
       "output_type": "stream",
       "stream": "stdout",
       "text": [
        "\n",
        "['G17', 'G10', 'G05']"
       ]
      },
      {
       "output_type": "stream",
       "stream": "stdout",
       "text": [
        "\n",
        "['G10', 'G05', 'G12', 'G02']"
       ]
      },
      {
       "output_type": "stream",
       "stream": "stdout",
       "text": [
        "\n",
        "['G05', 'G12', 'G02', 'G25']"
       ]
      },
      {
       "output_type": "stream",
       "stream": "stdout",
       "text": [
        "\n",
        "['G04', 'G23', 'G12', 'G02', 'G25']"
       ]
      },
      {
       "output_type": "stream",
       "stream": "stdout",
       "text": [
        "\n",
        "['G04', 'G23', 'G13', 'G02', 'G25']"
       ]
      },
      {
       "output_type": "stream",
       "stream": "stdout",
       "text": [
        "\n",
        "['G04', 'G23', 'G13', 'G17', 'G25']"
       ]
      },
      {
       "output_type": "stream",
       "stream": "stdout",
       "text": [
        "\n"
       ]
      }
     ],
     "prompt_number": 9
    },
    {
     "cell_type": "code",
     "collapsed": false,
     "input": [
      "folders = findFolders(indir)\n",
      "folders.sort(key=lambda x: x.lower())\n",
      "for folder in folders:\n",
      "    print(folder)\n",
      "    rnx2rtkpFile(indir, folder, outdir, station, rnx2rtkp)\n",
      "    #pos2kmlFile(outdir, folder, outdir, pos2kml)\n",
      "    "
     ],
     "language": "python",
     "metadata": {},
     "outputs": [
      {
       "output_type": "stream",
       "stream": "stdout",
       "text": [
        "CMU_center\n",
        "CMU_center\n",
        "\n",
        "Running \n",
        "/home/ruffin/git/RTKLIB/app/rnx2rtkp/gcc/rnx2rtkp -k /home/ruffin/Documents/Data/in/rtkoptions_static.conf -o /home/ruffin/Documents/Data/out/CMU_center/CMU_center_static.pos /home/ruffin/Documents/Data/in/CMU_center/CMU_center.obs /home/ruffin/Documents/Data/in/paap2090.13o /home/ruffin/Documents/Data/in/CMU_center/CMU_center.nav /home/ruffin/Documents/Data/in/igr17510.sp3 /home/ruffin/Documents/Data/in/CMU_center/CMU_center.sbs\n",
        "\n",
        "Running "
       ]
      },
      {
       "output_type": "stream",
       "stream": "stdout",
       "text": [
        "\n",
        "/home/ruffin/git/RTKLIB/app/rnx2rtkp/gcc/rnx2rtkp -k /home/ruffin/Documents/Data/in/rtkoptions_kinetic.conf -o /home/ruffin/Documents/Data/out/CMU_center/CMU_center_kinetic.pos /home/ruffin/Documents/Data/in/CMU_center/CMU_center.obs /home/ruffin/Documents/Data/in/paap2090.13o /home/ruffin/Documents/Data/in/CMU_center/CMU_center.nav /home/ruffin/Documents/Data/in/igr17510.sp3 /home/ruffin/Documents/Data/in/CMU_center/CMU_center.sbs\n",
        "CMU_center.v0"
       ]
      },
      {
       "output_type": "stream",
       "stream": "stdout",
       "text": [
        "\n",
        "CMU_center.v0\n",
        "Copy static from original\n",
        "\n",
        "Running \n",
        "/home/ruffin/git/RTKLIB/app/rnx2rtkp/gcc/rnx2rtkp -k /home/ruffin/Documents/Data/in/rtkoptions_kinetic.conf -o /home/ruffin/Documents/Data/out/CMU_center.v0/CMU_center.v0_kinetic.pos /home/ruffin/Documents/Data/in/CMU_center.v0/CMU_center.v0.obs /home/ruffin/Documents/Data/in/paap2090.13o /home/ruffin/Documents/Data/in/CMU_center.v0/CMU_center.v0.nav /home/ruffin/Documents/Data/in/igr17510.sp3 /home/ruffin/Documents/Data/in/CMU_center.v0/CMU_center.v0.sbs\n",
        "CMU_center.v1"
       ]
      },
      {
       "output_type": "stream",
       "stream": "stdout",
       "text": [
        "\n",
        "CMU_center.v1\n",
        "Copy static from original\n",
        "\n",
        "Running \n",
        "/home/ruffin/git/RTKLIB/app/rnx2rtkp/gcc/rnx2rtkp -k /home/ruffin/Documents/Data/in/rtkoptions_kinetic.conf -o /home/ruffin/Documents/Data/out/CMU_center.v1/CMU_center.v1_kinetic.pos /home/ruffin/Documents/Data/in/CMU_center.v1/CMU_center.v1.obs /home/ruffin/Documents/Data/in/paap2090.13o /home/ruffin/Documents/Data/in/CMU_center.v1/CMU_center.v1.nav /home/ruffin/Documents/Data/in/igr17510.sp3 /home/ruffin/Documents/Data/in/CMU_center.v1/CMU_center.v1.sbs\n",
        "CMU_center.v2"
       ]
      },
      {
       "output_type": "stream",
       "stream": "stdout",
       "text": [
        "\n",
        "CMU_center.v2\n",
        "Copy static from original\n",
        "\n",
        "Running \n",
        "/home/ruffin/git/RTKLIB/app/rnx2rtkp/gcc/rnx2rtkp -k /home/ruffin/Documents/Data/in/rtkoptions_kinetic.conf -o /home/ruffin/Documents/Data/out/CMU_center.v2/CMU_center.v2_kinetic.pos /home/ruffin/Documents/Data/in/CMU_center.v2/CMU_center.v2.obs /home/ruffin/Documents/Data/in/paap2090.13o /home/ruffin/Documents/Data/in/CMU_center.v2/CMU_center.v2.nav /home/ruffin/Documents/Data/in/igr17510.sp3 /home/ruffin/Documents/Data/in/CMU_center.v2/CMU_center.v2.sbs\n",
        "CMU_center.v3"
       ]
      },
      {
       "output_type": "stream",
       "stream": "stdout",
       "text": [
        "\n",
        "CMU_center.v3\n",
        "Copy static from original\n",
        "\n",
        "Running \n",
        "/home/ruffin/git/RTKLIB/app/rnx2rtkp/gcc/rnx2rtkp -k /home/ruffin/Documents/Data/in/rtkoptions_kinetic.conf -o /home/ruffin/Documents/Data/out/CMU_center.v3/CMU_center.v3_kinetic.pos /home/ruffin/Documents/Data/in/CMU_center.v3/CMU_center.v3.obs /home/ruffin/Documents/Data/in/paap2090.13o /home/ruffin/Documents/Data/in/CMU_center.v3/CMU_center.v3.nav /home/ruffin/Documents/Data/in/igr17510.sp3 /home/ruffin/Documents/Data/in/CMU_center.v3/CMU_center.v3.sbs\n",
        "CMU_center.v4"
       ]
      },
      {
       "output_type": "stream",
       "stream": "stdout",
       "text": [
        "\n",
        "CMU_center.v4\n",
        "Copy static from original\n",
        "\n",
        "Running \n",
        "/home/ruffin/git/RTKLIB/app/rnx2rtkp/gcc/rnx2rtkp -k /home/ruffin/Documents/Data/in/rtkoptions_kinetic.conf -o /home/ruffin/Documents/Data/out/CMU_center.v4/CMU_center.v4_kinetic.pos /home/ruffin/Documents/Data/in/CMU_center.v4/CMU_center.v4.obs /home/ruffin/Documents/Data/in/paap2090.13o /home/ruffin/Documents/Data/in/CMU_center.v4/CMU_center.v4.nav /home/ruffin/Documents/Data/in/igr17510.sp3 /home/ruffin/Documents/Data/in/CMU_center.v4/CMU_center.v4.sbs\n",
        "CMU_center.v5"
       ]
      },
      {
       "output_type": "stream",
       "stream": "stdout",
       "text": [
        "\n",
        "CMU_center.v5\n",
        "Copy static from original\n",
        "\n",
        "Running \n",
        "/home/ruffin/git/RTKLIB/app/rnx2rtkp/gcc/rnx2rtkp -k /home/ruffin/Documents/Data/in/rtkoptions_kinetic.conf -o /home/ruffin/Documents/Data/out/CMU_center.v5/CMU_center.v5_kinetic.pos /home/ruffin/Documents/Data/in/CMU_center.v5/CMU_center.v5.obs /home/ruffin/Documents/Data/in/paap2090.13o /home/ruffin/Documents/Data/in/CMU_center.v5/CMU_center.v5.nav /home/ruffin/Documents/Data/in/igr17510.sp3 /home/ruffin/Documents/Data/in/CMU_center.v5/CMU_center.v5.sbs\n",
        "CMU_center.v6"
       ]
      },
      {
       "output_type": "stream",
       "stream": "stdout",
       "text": [
        "\n",
        "CMU_center.v6\n",
        "Copy static from original\n",
        "\n",
        "Running \n",
        "/home/ruffin/git/RTKLIB/app/rnx2rtkp/gcc/rnx2rtkp -k /home/ruffin/Documents/Data/in/rtkoptions_kinetic.conf -o /home/ruffin/Documents/Data/out/CMU_center.v6/CMU_center.v6_kinetic.pos /home/ruffin/Documents/Data/in/CMU_center.v6/CMU_center.v6.obs /home/ruffin/Documents/Data/in/paap2090.13o /home/ruffin/Documents/Data/in/CMU_center.v6/CMU_center.v6.nav /home/ruffin/Documents/Data/in/igr17510.sp3 /home/ruffin/Documents/Data/in/CMU_center.v6/CMU_center.v6.sbs\n",
        "CMU_center.v7"
       ]
      },
      {
       "output_type": "stream",
       "stream": "stdout",
       "text": [
        "\n",
        "CMU_center.v7\n",
        "Copy static from original\n",
        "\n",
        "Running \n",
        "/home/ruffin/git/RTKLIB/app/rnx2rtkp/gcc/rnx2rtkp -k /home/ruffin/Documents/Data/in/rtkoptions_kinetic.conf -o /home/ruffin/Documents/Data/out/CMU_center.v7/CMU_center.v7_kinetic.pos /home/ruffin/Documents/Data/in/CMU_center.v7/CMU_center.v7.obs /home/ruffin/Documents/Data/in/paap2090.13o /home/ruffin/Documents/Data/in/CMU_center.v7/CMU_center.v7.nav /home/ruffin/Documents/Data/in/igr17510.sp3 /home/ruffin/Documents/Data/in/CMU_center.v7/CMU_center.v7.sbs\n",
        "CMU_center.v8"
       ]
      },
      {
       "output_type": "stream",
       "stream": "stdout",
       "text": [
        "\n",
        "CMU_center.v8\n",
        "Copy static from original\n",
        "\n",
        "Running \n",
        "/home/ruffin/git/RTKLIB/app/rnx2rtkp/gcc/rnx2rtkp -k /home/ruffin/Documents/Data/in/rtkoptions_kinetic.conf -o /home/ruffin/Documents/Data/out/CMU_center.v8/CMU_center.v8_kinetic.pos /home/ruffin/Documents/Data/in/CMU_center.v8/CMU_center.v8.obs /home/ruffin/Documents/Data/in/paap2090.13o /home/ruffin/Documents/Data/in/CMU_center.v8/CMU_center.v8.nav /home/ruffin/Documents/Data/in/igr17510.sp3 /home/ruffin/Documents/Data/in/CMU_center.v8/CMU_center.v8.sbs\n"
       ]
      }
     ],
     "prompt_number": 12
    }
   ],
   "metadata": {}
  }
 ]
}