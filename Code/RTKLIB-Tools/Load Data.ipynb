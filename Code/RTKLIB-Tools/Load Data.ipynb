{
 "metadata": {
  "name": "Load Data"
 },
 "nbformat": 3,
 "nbformat_minor": 0,
 "worksheets": [
  {
   "cells": [
    {
     "cell_type": "code",
     "collapsed": false,
     "input": [
      "from plot_utils import *\n",
      "from file_utils import *\n",
      "from rtklib_utils import *"
     ],
     "language": "python",
     "metadata": {},
     "outputs": [
      {
       "output_type": "stream",
       "stream": "stderr",
       "text": [
        "/usr/lib/python3.3/importlib/_bootstrap.py:313: UserWarning: Module pytz was already imported from /usr/local/lib/python3.3/dist-packages/pytz/__init__.py, but /usr/lib/python3/dist-packages is being added to sys.path\n",
        "  return f(*args, **kwds)\n",
        "/usr/lib/python3.3/importlib/_bootstrap.py:313: UserWarning: Module dateutil was already imported from /usr/local/lib/python3.3/dist-packages/dateutil/__init__.py, but /usr/lib/python3/dist-packages is being added to sys.path\n",
        "  return f(*args, **kwds)\n"
       ]
      }
     ],
     "prompt_number": 1
    },
    {
     "cell_type": "code",
     "collapsed": false,
     "input": [
      "server = 'ftp.ngs.noaa.gov'\n",
      "hostPath = '/cors/rinex/'\n",
      "station = 'paap'\n",
      "rnx2rtkp = '/home/ruffin/git/RTKLIB/app/rnx2rtkp/gcc/rnx2rtkp'\n",
      "pos2kml  = '/home/ruffin/git/RTKLIB/app/pos2kml/gcc/pos2kml'\n",
      "convbin  = '/home/ruffin/git/RTKLIB/app/convbin/gcc/convbin'"
     ],
     "language": "python",
     "metadata": {},
     "outputs": [],
     "prompt_number": 2
    },
    {
     "cell_type": "code",
     "collapsed": false,
     "input": [
      "indir = '/home/ruffin/Documents/Data/in/'\n",
      "outdir = '/home/ruffin/Documents/Data/out/'\n",
      "indir = checkDir(indir,'r')\n",
      "outdir = checkDir(outdir,'r')"
     ],
     "language": "python",
     "metadata": {},
     "outputs": [
      {
       "output_type": "stream",
       "stream": "stdout",
       "text": [
        "Checking directory: /home/ruffin/Documents/Data/in/\n",
        "Checking directory: /home/ruffin/Documents/Data/out/\n"
       ]
      }
     ],
     "prompt_number": 3
    },
    {
     "cell_type": "code",
     "collapsed": false,
     "input": [
      "files = findFiles(indir,'.ubx')\n",
      "for file in files:\n",
      "    convbinFile(indir, file, convbin)\n",
      "    #fetchData(indir, file, server, hostPath, station)"
     ],
     "language": "python",
     "metadata": {},
     "outputs": [
      {
       "output_type": "stream",
       "stream": "stdout",
       "text": [
        "Running \n",
        "/home/ruffin/git/RTKLIB/app/convbin/gcc/convbin /home/ruffin/Documents/Data/in/UnderBridge_N/UnderBridge_N.ubx -v 3.02 -od -os -oi -ot -ol\n",
        "Running "
       ]
      },
      {
       "output_type": "stream",
       "stream": "stdout",
       "text": [
        "\n",
        "/home/ruffin/git/RTKLIB/app/convbin/gcc/convbin /home/ruffin/Documents/Data/in/TopBridge_NW/TopBridge_NW.ubx -v 3.02 -od -os -oi -ot -ol\n",
        "Running "
       ]
      },
      {
       "output_type": "stream",
       "stream": "stdout",
       "text": [
        "\n",
        "/home/ruffin/git/RTKLIB/app/convbin/gcc/convbin /home/ruffin/Documents/Data/in/CMU_center/CMU_center.ubx -v 3.02 -od -os -oi -ot -ol\n",
        "Running "
       ]
      },
      {
       "output_type": "stream",
       "stream": "stdout",
       "text": [
        "\n",
        "/home/ruffin/git/RTKLIB/app/convbin/gcc/convbin /home/ruffin/Documents/Data/in/TopBridge_SW/TopBridge_SW.ubx -v 3.02 -od -os -oi -ot -ol\n",
        "Running "
       ]
      },
      {
       "output_type": "stream",
       "stream": "stdout",
       "text": [
        "\n",
        "/home/ruffin/git/RTKLIB/app/convbin/gcc/convbin /home/ruffin/Documents/Data/in/UnderBridge_S/UnderBridge_S.ubx -v 3.02 -od -os -oi -ot -ol\n",
        "Running "
       ]
      },
      {
       "output_type": "stream",
       "stream": "stdout",
       "text": [
        "\n",
        "/home/ruffin/git/RTKLIB/app/convbin/gcc/convbin /home/ruffin/Documents/Data/in/TopBridge_NE/TopBridge_NE.ubx -v 3.02 -od -os -oi -ot -ol\n",
        "Running "
       ]
      },
      {
       "output_type": "stream",
       "stream": "stdout",
       "text": [
        "\n",
        "/home/ruffin/git/RTKLIB/app/convbin/gcc/convbin /home/ruffin/Documents/Data/in/FlagStaff_center/FlagStaff_center.ubx -v 3.02 -od -os -oi -ot -ol\n",
        "Running "
       ]
      },
      {
       "output_type": "stream",
       "stream": "stdout",
       "text": [
        "\n",
        "/home/ruffin/git/RTKLIB/app/convbin/gcc/convbin /home/ruffin/Documents/Data/in/TopBridge_SE/TopBridge_SE.ubx -v 3.02 -od -os -oi -ot -ol\n"
       ]
      }
     ],
     "prompt_number": 4
    },
    {
     "cell_type": "code",
     "collapsed": false,
     "input": [
      "decompressData(indir)"
     ],
     "language": "python",
     "metadata": {},
     "outputs": [],
     "prompt_number": 5
    },
    {
     "cell_type": "code",
     "collapsed": false,
     "input": [
      "for file in files:\n",
      "    rnx2rtkpFile(indir, file, outdir, station, rnx2rtkp)\n",
      "    #pos2kmlFile(outdir, file, outdir, pos2kml)\n",
      "    "
     ],
     "language": "python",
     "metadata": {},
     "outputs": [
      {
       "output_type": "stream",
       "stream": "stdout",
       "text": [
        "\n",
        "Running \n",
        "/home/ruffin/git/RTKLIB/app/rnx2rtkp/gcc/rnx2rtkp -k /home/ruffin/Documents/Data/in/rtkoptions_static.conf -o /home/ruffin/Documents/Data/out/UnderBridge_N/UnderBridge_N_static.pos /home/ruffin/Documents/Data/in/UnderBridge_N/UnderBridge_N.obs /home/ruffin/Documents/Data/in/paap2090.13o /home/ruffin/Documents/Data/in/UnderBridge_N/UnderBridge_N.nav /home/ruffin/Documents/Data/in/igr17510.sp3 /home/ruffin/Documents/Data/in/UnderBridge_N/UnderBridge_N.sbs\n",
        "\n",
        "Running "
       ]
      },
      {
       "output_type": "stream",
       "stream": "stdout",
       "text": [
        "\n",
        "/home/ruffin/git/RTKLIB/app/rnx2rtkp/gcc/rnx2rtkp -k /home/ruffin/Documents/Data/in/rtkoptions_kinetic.conf -o /home/ruffin/Documents/Data/out/UnderBridge_N/UnderBridge_N_kinetic.pos /home/ruffin/Documents/Data/in/UnderBridge_N/UnderBridge_N.obs /home/ruffin/Documents/Data/in/paap2090.13o /home/ruffin/Documents/Data/in/UnderBridge_N/UnderBridge_N.nav /home/ruffin/Documents/Data/in/igr17510.sp3 /home/ruffin/Documents/Data/in/UnderBridge_N/UnderBridge_N.sbs\n",
        "\n",
        "Running "
       ]
      },
      {
       "output_type": "stream",
       "stream": "stdout",
       "text": [
        "\n",
        "/home/ruffin/git/RTKLIB/app/rnx2rtkp/gcc/rnx2rtkp -k /home/ruffin/Documents/Data/in/rtkoptions_static.conf -o /home/ruffin/Documents/Data/out/TopBridge_NW/TopBridge_NW_static.pos /home/ruffin/Documents/Data/in/TopBridge_NW/TopBridge_NW.obs /home/ruffin/Documents/Data/in/paap2090.13o /home/ruffin/Documents/Data/in/TopBridge_NW/TopBridge_NW.nav /home/ruffin/Documents/Data/in/igr17510.sp3 /home/ruffin/Documents/Data/in/TopBridge_NW/TopBridge_NW.sbs\n",
        "\n",
        "Running "
       ]
      },
      {
       "output_type": "stream",
       "stream": "stdout",
       "text": [
        "\n",
        "/home/ruffin/git/RTKLIB/app/rnx2rtkp/gcc/rnx2rtkp -k /home/ruffin/Documents/Data/in/rtkoptions_kinetic.conf -o /home/ruffin/Documents/Data/out/TopBridge_NW/TopBridge_NW_kinetic.pos /home/ruffin/Documents/Data/in/TopBridge_NW/TopBridge_NW.obs /home/ruffin/Documents/Data/in/paap2090.13o /home/ruffin/Documents/Data/in/TopBridge_NW/TopBridge_NW.nav /home/ruffin/Documents/Data/in/igr17510.sp3 /home/ruffin/Documents/Data/in/TopBridge_NW/TopBridge_NW.sbs\n",
        "\n",
        "Running "
       ]
      },
      {
       "output_type": "stream",
       "stream": "stdout",
       "text": [
        "\n",
        "/home/ruffin/git/RTKLIB/app/rnx2rtkp/gcc/rnx2rtkp -k /home/ruffin/Documents/Data/in/rtkoptions_static.conf -o /home/ruffin/Documents/Data/out/CMU_center/CMU_center_static.pos /home/ruffin/Documents/Data/in/CMU_center/CMU_center.obs /home/ruffin/Documents/Data/in/paap2090.13o /home/ruffin/Documents/Data/in/CMU_center/CMU_center.nav /home/ruffin/Documents/Data/in/igr17510.sp3 /home/ruffin/Documents/Data/in/CMU_center/CMU_center.sbs\n",
        "\n",
        "Running "
       ]
      },
      {
       "output_type": "stream",
       "stream": "stdout",
       "text": [
        "\n",
        "/home/ruffin/git/RTKLIB/app/rnx2rtkp/gcc/rnx2rtkp -k /home/ruffin/Documents/Data/in/rtkoptions_kinetic.conf -o /home/ruffin/Documents/Data/out/CMU_center/CMU_center_kinetic.pos /home/ruffin/Documents/Data/in/CMU_center/CMU_center.obs /home/ruffin/Documents/Data/in/paap2090.13o /home/ruffin/Documents/Data/in/CMU_center/CMU_center.nav /home/ruffin/Documents/Data/in/igr17510.sp3 /home/ruffin/Documents/Data/in/CMU_center/CMU_center.sbs\n",
        "\n",
        "Running "
       ]
      },
      {
       "output_type": "stream",
       "stream": "stdout",
       "text": [
        "\n",
        "/home/ruffin/git/RTKLIB/app/rnx2rtkp/gcc/rnx2rtkp -k /home/ruffin/Documents/Data/in/rtkoptions_static.conf -o /home/ruffin/Documents/Data/out/TopBridge_SW/TopBridge_SW_static.pos /home/ruffin/Documents/Data/in/TopBridge_SW/TopBridge_SW.obs /home/ruffin/Documents/Data/in/paap2090.13o /home/ruffin/Documents/Data/in/TopBridge_SW/TopBridge_SW.nav /home/ruffin/Documents/Data/in/igr17510.sp3 /home/ruffin/Documents/Data/in/TopBridge_SW/TopBridge_SW.sbs\n",
        "\n",
        "Running "
       ]
      },
      {
       "output_type": "stream",
       "stream": "stdout",
       "text": [
        "\n",
        "/home/ruffin/git/RTKLIB/app/rnx2rtkp/gcc/rnx2rtkp -k /home/ruffin/Documents/Data/in/rtkoptions_kinetic.conf -o /home/ruffin/Documents/Data/out/TopBridge_SW/TopBridge_SW_kinetic.pos /home/ruffin/Documents/Data/in/TopBridge_SW/TopBridge_SW.obs /home/ruffin/Documents/Data/in/paap2090.13o /home/ruffin/Documents/Data/in/TopBridge_SW/TopBridge_SW.nav /home/ruffin/Documents/Data/in/igr17510.sp3 /home/ruffin/Documents/Data/in/TopBridge_SW/TopBridge_SW.sbs\n",
        "\n",
        "Running "
       ]
      },
      {
       "output_type": "stream",
       "stream": "stdout",
       "text": [
        "\n",
        "/home/ruffin/git/RTKLIB/app/rnx2rtkp/gcc/rnx2rtkp -k /home/ruffin/Documents/Data/in/rtkoptions_static.conf -o /home/ruffin/Documents/Data/out/UnderBridge_S/UnderBridge_S_static.pos /home/ruffin/Documents/Data/in/UnderBridge_S/UnderBridge_S.obs /home/ruffin/Documents/Data/in/paap2090.13o /home/ruffin/Documents/Data/in/UnderBridge_S/UnderBridge_S.nav /home/ruffin/Documents/Data/in/igr17510.sp3 /home/ruffin/Documents/Data/in/UnderBridge_S/UnderBridge_S.sbs\n",
        "\n",
        "Running "
       ]
      },
      {
       "output_type": "stream",
       "stream": "stdout",
       "text": [
        "\n",
        "/home/ruffin/git/RTKLIB/app/rnx2rtkp/gcc/rnx2rtkp -k /home/ruffin/Documents/Data/in/rtkoptions_kinetic.conf -o /home/ruffin/Documents/Data/out/UnderBridge_S/UnderBridge_S_kinetic.pos /home/ruffin/Documents/Data/in/UnderBridge_S/UnderBridge_S.obs /home/ruffin/Documents/Data/in/paap2090.13o /home/ruffin/Documents/Data/in/UnderBridge_S/UnderBridge_S.nav /home/ruffin/Documents/Data/in/igr17510.sp3 /home/ruffin/Documents/Data/in/UnderBridge_S/UnderBridge_S.sbs\n",
        "\n",
        "Running "
       ]
      },
      {
       "output_type": "stream",
       "stream": "stdout",
       "text": [
        "\n",
        "/home/ruffin/git/RTKLIB/app/rnx2rtkp/gcc/rnx2rtkp -k /home/ruffin/Documents/Data/in/rtkoptions_static.conf -o /home/ruffin/Documents/Data/out/TopBridge_NE/TopBridge_NE_static.pos /home/ruffin/Documents/Data/in/TopBridge_NE/TopBridge_NE.obs /home/ruffin/Documents/Data/in/paap2090.13o /home/ruffin/Documents/Data/in/TopBridge_NE/TopBridge_NE.nav /home/ruffin/Documents/Data/in/igr17510.sp3 /home/ruffin/Documents/Data/in/TopBridge_NE/TopBridge_NE.sbs\n",
        "\n",
        "Running "
       ]
      },
      {
       "output_type": "stream",
       "stream": "stdout",
       "text": [
        "\n",
        "/home/ruffin/git/RTKLIB/app/rnx2rtkp/gcc/rnx2rtkp -k /home/ruffin/Documents/Data/in/rtkoptions_kinetic.conf -o /home/ruffin/Documents/Data/out/TopBridge_NE/TopBridge_NE_kinetic.pos /home/ruffin/Documents/Data/in/TopBridge_NE/TopBridge_NE.obs /home/ruffin/Documents/Data/in/paap2090.13o /home/ruffin/Documents/Data/in/TopBridge_NE/TopBridge_NE.nav /home/ruffin/Documents/Data/in/igr17510.sp3 /home/ruffin/Documents/Data/in/TopBridge_NE/TopBridge_NE.sbs\n",
        "\n",
        "Running "
       ]
      },
      {
       "output_type": "stream",
       "stream": "stdout",
       "text": [
        "\n",
        "/home/ruffin/git/RTKLIB/app/rnx2rtkp/gcc/rnx2rtkp -k /home/ruffin/Documents/Data/in/rtkoptions_static.conf -o /home/ruffin/Documents/Data/out/FlagStaff_center/FlagStaff_center_static.pos /home/ruffin/Documents/Data/in/FlagStaff_center/FlagStaff_center.obs /home/ruffin/Documents/Data/in/paap2090.13o /home/ruffin/Documents/Data/in/FlagStaff_center/FlagStaff_center.nav /home/ruffin/Documents/Data/in/igr17510.sp3 /home/ruffin/Documents/Data/in/FlagStaff_center/FlagStaff_center.sbs\n",
        "\n",
        "Running "
       ]
      },
      {
       "output_type": "stream",
       "stream": "stdout",
       "text": [
        "\n",
        "/home/ruffin/git/RTKLIB/app/rnx2rtkp/gcc/rnx2rtkp -k /home/ruffin/Documents/Data/in/rtkoptions_kinetic.conf -o /home/ruffin/Documents/Data/out/FlagStaff_center/FlagStaff_center_kinetic.pos /home/ruffin/Documents/Data/in/FlagStaff_center/FlagStaff_center.obs /home/ruffin/Documents/Data/in/paap2090.13o /home/ruffin/Documents/Data/in/FlagStaff_center/FlagStaff_center.nav /home/ruffin/Documents/Data/in/igr17510.sp3 /home/ruffin/Documents/Data/in/FlagStaff_center/FlagStaff_center.sbs\n",
        "\n",
        "Running "
       ]
      },
      {
       "output_type": "stream",
       "stream": "stdout",
       "text": [
        "\n",
        "/home/ruffin/git/RTKLIB/app/rnx2rtkp/gcc/rnx2rtkp -k /home/ruffin/Documents/Data/in/rtkoptions_static.conf -o /home/ruffin/Documents/Data/out/TopBridge_SE/TopBridge_SE_static.pos /home/ruffin/Documents/Data/in/TopBridge_SE/TopBridge_SE.obs /home/ruffin/Documents/Data/in/paap2090.13o /home/ruffin/Documents/Data/in/TopBridge_SE/TopBridge_SE.nav /home/ruffin/Documents/Data/in/igr17510.sp3 /home/ruffin/Documents/Data/in/TopBridge_SE/TopBridge_SE.sbs\n",
        "\n",
        "Running "
       ]
      },
      {
       "output_type": "stream",
       "stream": "stdout",
       "text": [
        "\n",
        "/home/ruffin/git/RTKLIB/app/rnx2rtkp/gcc/rnx2rtkp -k /home/ruffin/Documents/Data/in/rtkoptions_kinetic.conf -o /home/ruffin/Documents/Data/out/TopBridge_SE/TopBridge_SE_kinetic.pos /home/ruffin/Documents/Data/in/TopBridge_SE/TopBridge_SE.obs /home/ruffin/Documents/Data/in/paap2090.13o /home/ruffin/Documents/Data/in/TopBridge_SE/TopBridge_SE.nav /home/ruffin/Documents/Data/in/igr17510.sp3 /home/ruffin/Documents/Data/in/TopBridge_SE/TopBridge_SE.sbs\n"
       ]
      }
     ],
     "prompt_number": 7
    },
    {
     "cell_type": "code",
     "collapsed": false,
     "input": [],
     "language": "python",
     "metadata": {},
     "outputs": [],
     "prompt_number": 6
    }
   ],
   "metadata": {}
  }
 ]
}