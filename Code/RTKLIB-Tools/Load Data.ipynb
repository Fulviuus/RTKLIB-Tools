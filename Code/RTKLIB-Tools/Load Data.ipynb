{
 "metadata": {
  "name": "Load Data"
 },
 "nbformat": 3,
 "nbformat_minor": 0,
 "worksheets": [
  {
   "cells": [
    {
     "cell_type": "code",
     "collapsed": false,
     "input": [
      "from plot_utils import *\n",
      "from file_utils import *\n",
      "from rtklib_utils import *"
     ],
     "language": "python",
     "metadata": {},
     "outputs": [],
     "prompt_number": 1
    },
    {
     "cell_type": "code",
     "collapsed": false,
     "input": [
      "server = 'ftp.ngs.noaa.gov'\n",
      "hostPath = '/cors/rinex/'\n",
      "station = 'paap'\n",
      "rnx2rtkp = '/home/ruffin/git/RTKLIB/app/rnx2rtkp/gcc/rnx2rtkp'\n",
      "pos2kml  = '/home/ruffin/git/RTKLIB/app/pos2kml/gcc/pos2kml'\n",
      "convbin  = '/home/ruffin/git/RTKLIB/app/convbin/gcc/convbin'"
     ],
     "language": "python",
     "metadata": {},
     "outputs": [],
     "prompt_number": 2
    },
    {
     "cell_type": "code",
     "collapsed": false,
     "input": [
      "indir = '/home/ruffin/Documents/Data/in/'\n",
      "outdir = '/home/ruffin/Documents/Data/out/'\n",
      "indir = checkDir(indir,'r')\n",
      "outdir = checkDir(outdir,'r')"
     ],
     "language": "python",
     "metadata": {},
     "outputs": [
      {
       "output_type": "stream",
       "stream": "stdout",
       "text": [
        "Checking directory: /home/ruffin/Documents/Data/in/\n",
        "Checking directory: /home/ruffin/Documents/Data/out/\n"
       ]
      }
     ],
     "prompt_number": 3
    },
    {
     "cell_type": "code",
     "collapsed": false,
     "input": [
      "files = findFiles(indir,'.ubx')\n",
      "for file in files:\n",
      "    convbinFile(indir, file, convbin)\n",
      "    fetchData(indir, file, server, hostPath, station)"
     ],
     "language": "python",
     "metadata": {},
     "outputs": [
      {
       "output_type": "stream",
       "stream": "stdout",
       "text": [
        "Running \n",
        "/home/ruffin/git/RTKLIB/app/convbin/gcc/convbin /home/ruffin/Documents/Data/in/rov_201307201327.log/rov_201307201327.log.ubx\n",
        "rov_201307201327.log.obs"
       ]
      },
      {
       "output_type": "stream",
       "stream": "stdout",
       "text": [
        "\n",
        "Running \n",
        "grep TIME OF FIRST OBS /home/ruffin/Documents/Data/in/rov_201307201327.log/rov_201307201327.log.obs\n",
        "Recorded Date\n",
        "2013-07-20 13:28:22.795000\n",
        "\n",
        "Current Date\n",
        "2013-07-27 00:43:55.459541\n",
        "\n",
        "Date Diffrince\n",
        "6 days, 11:15:32.664541\n",
        "\n",
        "Fetching updated ephemerides"
       ]
      },
      {
       "output_type": "stream",
       "stream": "stdout",
       "text": [
        "\n",
        "No IGS file yet"
       ]
      },
      {
       "output_type": "stream",
       "stream": "stdout",
       "text": [
        "\n",
        "Downloading\n",
        "igr17496.sp3.gz"
       ]
      },
      {
       "output_type": "stream",
       "stream": "stdout",
       "text": [
        "\n",
        "\n",
        "FTP Current Working Directory\n",
        "/cors/rinex/2013/201/paap"
       ]
      },
      {
       "output_type": "stream",
       "stream": "stdout",
       "text": [
        "\n",
        "\n",
        "Fetching station broadcasts\n",
        "Downloading\n",
        "paap2010.13S"
       ]
      },
      {
       "output_type": "stream",
       "stream": "stdout",
       "text": [
        "\n",
        "\n",
        "Found local\n",
        "paap2010.13S.md5"
       ]
      },
      {
       "output_type": "stream",
       "stream": "stdout",
       "text": [
        "\n",
        "\n",
        "Downloading\n",
        "paap2010.13d.Z\n",
        "\n",
        "Found local\n",
        "paap2010.13d.Z.md5"
       ]
      },
      {
       "output_type": "stream",
       "stream": "stdout",
       "text": [
        "\n",
        "\n",
        "Downloading\n",
        "paap2010.13o.gz\n",
        "\n",
        "Found local\n",
        "paap2010.13o.gz.md5"
       ]
      },
      {
       "output_type": "stream",
       "stream": "stdout",
       "text": [
        "\n",
        "\n",
        "Running \n",
        "/home/ruffin/git/RTKLIB/app/convbin/gcc/convbin /home/ruffin/Documents/Data/in/rov_201307201304.log/rov_201307201304.log.ubx\n",
        "rov_201307201304.log.obs"
       ]
      },
      {
       "output_type": "stream",
       "stream": "stdout",
       "text": [
        "\n",
        "Running \n",
        "grep TIME OF FIRST OBS /home/ruffin/Documents/Data/in/rov_201307201304.log/rov_201307201304.log.obs\n",
        "Recorded Date\n",
        "2013-07-20 13:19:36.195000\n",
        "\n",
        "Current Date\n",
        "2013-07-27 00:44:12.721956\n",
        "\n",
        "Date Diffrince\n",
        "6 days, 11:24:36.526956\n",
        "\n",
        "Fetching updated ephemerides"
       ]
      },
      {
       "output_type": "stream",
       "stream": "stdout",
       "text": [
        "\n",
        "No IGS file yet"
       ]
      },
      {
       "output_type": "stream",
       "stream": "stdout",
       "text": [
        "\n",
        "Found local\n",
        "igr17496.sp3.gz"
       ]
      },
      {
       "output_type": "stream",
       "stream": "stdout",
       "text": [
        "\n",
        "\n",
        "FTP Current Working Directory\n",
        "/cors/rinex/2013/201/paap\n",
        "\n",
        "Fetching station broadcasts\n",
        "Found local\n",
        "paap2010.13S"
       ]
      },
      {
       "output_type": "stream",
       "stream": "stdout",
       "text": [
        "\n",
        "\n",
        "Found local\n",
        "paap2010.13S.md5\n",
        "\n",
        "Found local\n",
        "paap2010.13d.Z\n",
        "\n",
        "Found local\n",
        "paap2010.13d.Z.md5\n",
        "\n",
        "Found local\n",
        "paap2010.13o.gz\n",
        "\n",
        "Found local\n",
        "paap2010.13o.gz.md5\n",
        "\n"
       ]
      }
     ],
     "prompt_number": 4
    },
    {
     "cell_type": "code",
     "collapsed": false,
     "input": [
      "#grep TIME OF FIRST OBS /home/ruffin/Documents/Data/in/rov_201307201327.log/rov_201307201327.log.obs \n"
     ],
     "language": "python",
     "metadata": {},
     "outputs": [],
     "prompt_number": 5
    },
    {
     "cell_type": "code",
     "collapsed": false,
     "input": [
      "\n"
     ],
     "language": "python",
     "metadata": {},
     "outputs": [],
     "prompt_number": 5
    }
   ],
   "metadata": {}
  }
 ]
}