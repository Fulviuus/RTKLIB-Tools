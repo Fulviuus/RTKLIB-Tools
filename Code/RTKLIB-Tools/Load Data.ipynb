{
 "metadata": {
  "name": "Load Data"
 },
 "nbformat": 3,
 "nbformat_minor": 0,
 "worksheets": [
  {
   "cells": [
    {
     "cell_type": "code",
     "collapsed": false,
     "input": [
      "from plot_utils import *\n",
      "from file_utils import *\n",
      "from rtklib_utils import *"
     ],
     "language": "python",
     "metadata": {},
     "outputs": [
      {
       "output_type": "stream",
       "stream": "stderr",
       "text": [
        "/usr/lib/python3.3/importlib/_bootstrap.py:313: UserWarning: Module pytz was already imported from /usr/local/lib/python3.3/dist-packages/pytz/__init__.py, but /usr/lib/python3/dist-packages is being added to sys.path\n",
        "  return f(*args, **kwds)\n",
        "/usr/lib/python3.3/importlib/_bootstrap.py:313: UserWarning: Module dateutil was already imported from /usr/local/lib/python3.3/dist-packages/dateutil/__init__.py, but /usr/lib/python3/dist-packages is being added to sys.path\n",
        "  return f(*args, **kwds)\n"
       ]
      }
     ],
     "prompt_number": 1
    },
    {
     "cell_type": "code",
     "collapsed": false,
     "input": [
      "server = 'ftp.ngs.noaa.gov'\n",
      "hostPath = '/cors/rinex/'\n",
      "station = 'paap'\n",
      "rnx2rtkp = '/home/ruffin/git/RTKLIB/app/rnx2rtkp/gcc/rnx2rtkp'\n",
      "pos2kml  = '/home/ruffin/git/RTKLIB/app/pos2kml/gcc/pos2kml'\n",
      "convbin  = '/home/ruffin/git/RTKLIB/app/convbin/gcc/convbin'"
     ],
     "language": "python",
     "metadata": {},
     "outputs": [],
     "prompt_number": 2
    },
    {
     "cell_type": "code",
     "collapsed": false,
     "input": [
      "indir = '/home/ruffin/Documents/Data/in/'\n",
      "outdir = '/home/ruffin/Documents/Data/out/'\n",
      "indir = checkDir(indir,'r')\n",
      "outdir = checkDir(outdir,'r')"
     ],
     "language": "python",
     "metadata": {},
     "outputs": [
      {
       "output_type": "stream",
       "stream": "stdout",
       "text": [
        "Checking directory: /home/ruffin/Documents/Data/in/\n",
        "Checking directory: /home/ruffin/Documents/Data/out/\n"
       ]
      }
     ],
     "prompt_number": 3
    },
    {
     "cell_type": "code",
     "collapsed": false,
     "input": [
      "files = findFiles(indir,'.ubx')\n",
      "for file in files:\n",
      "    convbinFile(indir, file, convbin)\n",
      "    fetchData(indir, file, server, hostPath, station)"
     ],
     "language": "python",
     "metadata": {},
     "outputs": [
      {
       "output_type": "stream",
       "stream": "stdout",
       "text": [
        "Running \n",
        "/home/ruffin/git/RTKLIB/app/convbin/gcc/convbin /home/ruffin/Documents/Data/in/COM2_130728_000422/COM2_130728_000422.ubx\n",
        "No IGS file yet"
       ]
      },
      {
       "output_type": "stream",
       "stream": "stdout",
       "text": [
        "\n",
        "Downloading\n",
        "igr17510.sp3.gz"
       ]
      },
      {
       "output_type": "stream",
       "stream": "stdout",
       "text": [
        "\n",
        "\n",
        "Downloading\n",
        "paap2090.13S"
       ]
      },
      {
       "output_type": "stream",
       "stream": "stdout",
       "text": [
        "\n",
        "\n",
        "Found local\n",
        "paap2090.13S.md5"
       ]
      },
      {
       "output_type": "stream",
       "stream": "stdout",
       "text": [
        "\n",
        "\n",
        "Downloading\n",
        "paap2090.13d.Z\n",
        "\n",
        "Found local\n",
        "paap2090.13d.Z.md5"
       ]
      },
      {
       "output_type": "stream",
       "stream": "stdout",
       "text": [
        "\n",
        "\n",
        "Downloading\n",
        "paap2090.13o.gz\n",
        "\n",
        "Found local\n",
        "paap2090.13o.gz.md5"
       ]
      },
      {
       "output_type": "stream",
       "stream": "stdout",
       "text": [
        "\n",
        "\n",
        "Running \n",
        "/home/ruffin/git/RTKLIB/app/convbin/gcc/convbin /home/ruffin/Documents/Data/in/COM2_130728_002709/COM2_130728_002709.ubx\n",
        "No IGS file yet"
       ]
      },
      {
       "output_type": "stream",
       "stream": "stdout",
       "text": [
        "\n",
        "Found local\n",
        "igr17510.sp3.gz"
       ]
      },
      {
       "output_type": "stream",
       "stream": "stdout",
       "text": [
        "\n",
        "\n",
        "Found local\n",
        "paap2090.13S"
       ]
      },
      {
       "output_type": "stream",
       "stream": "stdout",
       "text": [
        "\n",
        "\n",
        "Found local\n",
        "paap2090.13S.md5\n",
        "\n",
        "Found local\n",
        "paap2090.13d.Z\n",
        "\n",
        "Found local\n",
        "paap2090.13d.Z.md5\n",
        "\n",
        "Found local\n",
        "paap2090.13o.gz\n",
        "\n",
        "Found local\n",
        "paap2090.13o.gz.md5\n",
        "\n"
       ]
      }
     ],
     "prompt_number": 4
    },
    {
     "cell_type": "code",
     "collapsed": false,
     "input": [
      "decompressData(indir)"
     ],
     "language": "python",
     "metadata": {},
     "outputs": [],
     "prompt_number": 5
    },
    {
     "cell_type": "code",
     "collapsed": false,
     "input": [
      "for file in files:\n",
      "    rnx2rtkpFile(indir, file, outdir, station, rnx2rtkp)\n",
      "    #pos2kmlFile(outdir, file, outdir, pos2kml)\n",
      "    "
     ],
     "language": "python",
     "metadata": {},
     "outputs": [
      {
       "output_type": "stream",
       "stream": "stdout",
       "text": [
        "\n",
        "Running \n",
        "/home/ruffin/git/RTKLIB/app/rnx2rtkp/gcc/rnx2rtkp -k /home/ruffin/Documents/Data/in/rtkoptions_static.conf -o /home/ruffin/Documents/Data/out/COM2_130728_000422/COM2_130728_000422_static.pos /home/ruffin/Documents/Data/in/COM2_130728_000422/COM2_130728_000422.obs /home/ruffin/Documents/Data/in/paap2090.13o /home/ruffin/Documents/Data/in/COM2_130728_000422/COM2_130728_000422.nav /home/ruffin/Documents/Data/in/igr17510.sp3 /home/ruffin/Documents/Data/in/COM2_130728_000422/COM2_130728_000422.sbs\n",
        "\n",
        "Running "
       ]
      },
      {
       "output_type": "stream",
       "stream": "stdout",
       "text": [
        "\n",
        "/home/ruffin/git/RTKLIB/app/rnx2rtkp/gcc/rnx2rtkp -k /home/ruffin/Documents/Data/in/rtkoptions_kinetic.conf -o /home/ruffin/Documents/Data/out/COM2_130728_000422/COM2_130728_000422_kinetic.pos /home/ruffin/Documents/Data/in/COM2_130728_000422/COM2_130728_000422.obs /home/ruffin/Documents/Data/in/paap2090.13o /home/ruffin/Documents/Data/in/COM2_130728_000422/COM2_130728_000422.nav /home/ruffin/Documents/Data/in/igr17510.sp3 /home/ruffin/Documents/Data/in/COM2_130728_000422/COM2_130728_000422.sbs\n",
        "\n",
        "Running "
       ]
      },
      {
       "output_type": "stream",
       "stream": "stdout",
       "text": [
        "\n",
        "/home/ruffin/git/RTKLIB/app/rnx2rtkp/gcc/rnx2rtkp -k /home/ruffin/Documents/Data/in/rtkoptions_static.conf -o /home/ruffin/Documents/Data/out/COM2_130728_002709/COM2_130728_002709_static.pos /home/ruffin/Documents/Data/in/COM2_130728_002709/COM2_130728_002709.obs /home/ruffin/Documents/Data/in/paap2090.13o /home/ruffin/Documents/Data/in/COM2_130728_002709/COM2_130728_002709.nav /home/ruffin/Documents/Data/in/igr17510.sp3 /home/ruffin/Documents/Data/in/COM2_130728_002709/COM2_130728_002709.sbs\n",
        "\n",
        "Running "
       ]
      },
      {
       "output_type": "stream",
       "stream": "stdout",
       "text": [
        "\n",
        "/home/ruffin/git/RTKLIB/app/rnx2rtkp/gcc/rnx2rtkp -k /home/ruffin/Documents/Data/in/rtkoptions_kinetic.conf -o /home/ruffin/Documents/Data/out/COM2_130728_002709/COM2_130728_002709_kinetic.pos /home/ruffin/Documents/Data/in/COM2_130728_002709/COM2_130728_002709.obs /home/ruffin/Documents/Data/in/paap2090.13o /home/ruffin/Documents/Data/in/COM2_130728_002709/COM2_130728_002709.nav /home/ruffin/Documents/Data/in/igr17510.sp3 /home/ruffin/Documents/Data/in/COM2_130728_002709/COM2_130728_002709.sbs\n"
       ]
      }
     ],
     "prompt_number": 9
    },
    {
     "cell_type": "code",
     "collapsed": false,
     "input": [],
     "language": "python",
     "metadata": {},
     "outputs": []
    }
   ],
   "metadata": {}
  }
 ]
}