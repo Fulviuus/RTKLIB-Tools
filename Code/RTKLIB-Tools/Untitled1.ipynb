{
 "metadata": {
  "name": "Untitled1"
 },
 "nbformat": 3,
 "nbformat_minor": 0,
 "worksheets": [
  {
   "cells": [
    {
     "cell_type": "code",
     "collapsed": false,
     "input": [
      "from matplotlib import pyplot, mpl\n",
      "from pandas.lib import Timestamp\n",
      "import pandas as pd\n",
      "import scipy as sp\n",
      "import numpy as np\n",
      "import pylab as pl\n",
      "import geopy as gp\n",
      "import sklearn as sk\n",
      "import ephem\n",
      "from plot_utils import *\n",
      "from file_utils import *\n",
      "from rtklib_utils import *\n",
      "from ephem_utils import *\n",
      "\n",
      "from sklearn import svm\n",
      "from sklearn.metrics import roc_curve, auc"
     ],
     "language": "python",
     "metadata": {},
     "outputs": [
      {
       "output_type": "stream",
       "stream": "stderr",
       "text": [
        "/usr/lib/python3.3/importlib/_bootstrap.py:313: UserWarning: Module pytz was already imported from /usr/local/lib/python3.3/dist-packages/pytz/__init__.py, but /usr/lib/python3/dist-packages is being added to sys.path\n",
        "  return f(*args, **kwds)\n",
        "/usr/lib/python3.3/importlib/_bootstrap.py:313: UserWarning: Module dateutil was already imported from /usr/local/lib/python3.3/dist-packages/dateutil/__init__.py, but /usr/lib/python3/dist-packages is being added to sys.path\n",
        "  return f(*args, **kwds)\n"
       ]
      }
     ],
     "prompt_number": 1
    },
    {
     "cell_type": "code",
     "collapsed": false,
     "input": [],
     "language": "python",
     "metadata": {},
     "outputs": [],
     "prompt_number": 48
    },
    {
     "cell_type": "code",
     "collapsed": false,
     "input": [
      "indir = '/home/ruffin/Documents/Data/in/'\n",
      "filename = 'CMU_center'\n",
      "df, header = readObs(indir + filename + '/', filename + '.obs')\n",
      "writeObs(indir + filename + '/', filename + '2.obs', df, header)"
     ],
     "language": "python",
     "metadata": {},
     "outputs": [
      {
       "html": [
        "<div style=\"max-height:1000px;max-width:1500px;overflow:auto;\">\n",
        "<table border=\"1\" class=\"dataframe\">\n",
        "  <thead>\n",
        "    <tr style=\"text-align: right;\">\n",
        "      <th></th>\n",
        "      <th></th>\n",
        "      <th>satData</th>\n",
        "    </tr>\n",
        "    <tr>\n",
        "      <th>%_GPST</th>\n",
        "      <th>satID</th>\n",
        "      <th></th>\n",
        "    </tr>\n",
        "  </thead>\n",
        "  <tbody>\n",
        "    <tr>\n",
        "      <th rowspan=\"5\" valign=\"top\">2013-07-28 00:04:41.800000</th>\n",
        "      <th>G02</th>\n",
        "      <td> G 2  20798587.222       64245.344        -292....</td>\n",
        "    </tr>\n",
        "    <tr>\n",
        "      <th>S38</th>\n",
        "      <td> S38  38119695.104      334980.3572      -1274....</td>\n",
        "    </tr>\n",
        "    <tr>\n",
        "      <th>G04</th>\n",
        "      <td> G 4  20340108.358      679975.293       -2616....</td>\n",
        "    </tr>\n",
        "    <tr>\n",
        "      <th>G25</th>\n",
        "      <td> G25  23622313.488     -364769.798        1299....</td>\n",
        "    </tr>\n",
        "    <tr>\n",
        "      <th>G05</th>\n",
        "      <td> G 5  22881315.972     -596016.782        2204....</td>\n",
        "    </tr>\n",
        "  </tbody>\n",
        "</table>\n",
        "</div>"
       ],
       "output_type": "pyout",
       "prompt_number": 4,
       "text": [
        "                                                                            satData\n",
        "%_GPST                     satID                                                   \n",
        "2013-07-28 00:04:41.800000 G02    G 2  20798587.222       64245.344        -292....\n",
        "                           S38    S38  38119695.104      334980.3572      -1274....\n",
        "                           G04    G 4  20340108.358      679975.293       -2616....\n",
        "                           G25    G25  23622313.488     -364769.798        1299....\n",
        "                           G05    G 5  22881315.972     -596016.782        2204...."
       ]
      }
     ],
     "prompt_number": 4
    },
    {
     "cell_type": "code",
     "collapsed": false,
     "input": [
      "uniq_satID = getSatsList(df)\n",
      "print(uniq_satID)"
     ],
     "language": "python",
     "metadata": {},
     "outputs": [
      {
       "output_type": "stream",
       "stream": "stdout",
       "text": [
        "['04', '25', '05', '23', '17', '13', '10', '12', '02']\n"
       ]
      }
     ],
     "prompt_number": 4
    },
    {
     "cell_type": "code",
     "collapsed": false,
     "input": [],
     "language": "python",
     "metadata": {},
     "outputs": [],
     "prompt_number": 4
    },
    {
     "cell_type": "code",
     "collapsed": false,
     "input": [
      "noradUrl = 'http://www.celestrak.com/NORAD/elements/gps-ops.txt'\n",
      "noradFile = 'gps-ops.txt'"
     ],
     "language": "python",
     "metadata": {},
     "outputs": [],
     "prompt_number": 5
    },
    {
     "cell_type": "code",
     "collapsed": false,
     "input": [
      "dir = indir\n",
      "dfObs = df\n",
      "headerObs = header\n",
      "\n",
      "\n",
      "headerObsLines = headerObs.split('\\n')\n",
      "for line in headerObsLines:\n",
      "    if 'APPROX POSITION XYZ' in line:\n",
      "        list = line.split()\n",
      "        x = float(list[0])\n",
      "        y = float(list[1])\n",
      "        z = float(list[2])\n",
      "        lat, lon, elv = xyz2plh(x,y,z)\n",
      "        break\n",
      "lat, lon, elv = xyz2plh(x,y,z)\n",
      "reference = gp.point.Point(lat,lon,elv)\n",
      "date = df.index[0][0]\n",
      "satlist = loadTLE(dir + noradFile)\n",
      "satObs = getSatsList(dfObs)\n",
      "satConsts = getSatConsts(satlist, satObs, date, reference)"
     ],
     "language": "python",
     "metadata": {},
     "outputs": [
      {
       "output_type": "stream",
       "stream": "stdout",
       "text": [
        "04\n",
        "10\n",
        "13\n",
        "23\n",
        "02\n",
        "17\n",
        "12\n",
        "05\n",
        "25\n"
       ]
      }
     ],
     "prompt_number": 6
    },
    {
     "cell_type": "code",
     "collapsed": false,
     "input": [
      "print(satConsts)"
     ],
     "language": "python",
     "metadata": {},
     "outputs": [
      {
       "output_type": "stream",
       "stream": "stdout",
       "text": [
        "[['G04', 64.492722520768083, 39.861305015085406], ['G10', 68.004730659907764, 132.30105109109212], ['G13', 14.311659075501021, 83.831289834824474], ['G23', 12.377180455371452, 56.434697564418812], ['G02', 65.141139699434063, 290.09231352315845], ['G17', 32.983024483126592, 112.96004539950204], ['G12', 50.408466055946171, 280.67913805434364], ['G05', 29.301436407273833, 199.40500957306944], ['G25', 20.05583109200882, 317.15125539194457]]\n"
       ]
      }
     ],
     "prompt_number": 7
    },
    {
     "cell_type": "code",
     "collapsed": false,
     "input": [
      "import ephem"
     ],
     "language": "python",
     "metadata": {},
     "outputs": [],
     "prompt_number": 9
    },
    {
     "cell_type": "code",
     "collapsed": false,
     "input": [
      "def generateData(dir, noradFile):\n",
      "    folders = findFolders(dir)\n",
      "    for folder in folders:\n",
      "        print('reading: ' + dir + folder + '/' + folder + '.obs')\n",
      "        df, header = readObs(dir + folder + '/', folder + '.obs')\n",
      "        headerLines = header.split('\\n')\n",
      "        for line in headerLines:\n",
      "            if 'APPROX POSITION XYZ' in line:\n",
      "                list = line.split()\n",
      "                x = float(list[0])\n",
      "                y = float(list[1])\n",
      "                z = float(list[2])\n",
      "                lat, lon, elv = xyz2plh(x,y,z)\n",
      "                break\n",
      "        lat, lon, elv = xyz2plh(x,y,z)\n",
      "        reference = gp.point.Point(lat,lon,elv)\n",
      "        date = df.index[0][0]\n",
      "        satlist = loadTLE(dir + noradFile)\n",
      "        satObs = getSatsList(df)\n",
      "        satConsts = getSatConsts(satlist, satObs, date, reference)\n",
      "        dfs = generateMasks(df, satConsts)\n",
      "        \n",
      "        for x, dfx in enumerate(dfs):\n",
      "            folderx = folder + '.v' + str(x)\n",
      "            dirx = dir + folderx + '/'\n",
      "            filepathx = dirx + folderx\t\n",
      "            filepath = dir + folder + '/' + folder\n",
      "            checkDir(dirx,'w')\n",
      "            print(dirx + folderx)\n",
      "            writeObs(dirx, folderx + '.obs', df, header)\n",
      "            shutil.copyfile(filepath + '.nav', filepathx + '.nav')\n",
      "            shutil.copyfile(filepath + '.sbs', filepathx + '.sbs')\n"
     ],
     "language": "python",
     "metadata": {},
     "outputs": [],
     "prompt_number": 25
    },
    {
     "cell_type": "code",
     "collapsed": false,
     "input": [
      "dir = indir\n",
      "generateData(dir, noradFile)"
     ],
     "language": "python",
     "metadata": {},
     "outputs": [
      {
       "output_type": "stream",
       "stream": "stdout",
       "text": [
        "reading: /home/ruffin/Documents/Data/in/CMU_center/CMU_center.obs\n",
        "04\n",
        "10\n",
        "13\n",
        "23\n",
        "02\n",
        "17\n",
        "12\n",
        "05\n",
        "25\n",
        "Checking directory: /home/ruffin/Documents/Data/in/CMU_center.v0/\n",
        "/home/ruffin/Documents/Data/in/CMU_center.v0/CMU_center.v0\n",
        "Checking directory: /home/ruffin/Documents/Data/in/CMU_center.v1/\n",
        "/home/ruffin/Documents/Data/in/CMU_center.v1/CMU_center.v1\n",
        "Checking directory: /home/ruffin/Documents/Data/in/CMU_center.v2/"
       ]
      },
      {
       "output_type": "stream",
       "stream": "stdout",
       "text": [
        "\n",
        "/home/ruffin/Documents/Data/in/CMU_center.v2/CMU_center.v2\n"
       ]
      }
     ],
     "prompt_number": 26
    },
    {
     "cell_type": "code",
     "collapsed": false,
     "input": [
      "dict = {}"
     ],
     "language": "python",
     "metadata": {},
     "outputs": [],
     "prompt_number": 3
    },
    {
     "cell_type": "code",
     "collapsed": false,
     "input": [
      "dict['cat'] = 2"
     ],
     "language": "python",
     "metadata": {},
     "outputs": [],
     "prompt_number": 4
    },
    {
     "cell_type": "code",
     "collapsed": false,
     "input": [
      "dict['cat']"
     ],
     "language": "python",
     "metadata": {},
     "outputs": [
      {
       "output_type": "pyout",
       "prompt_number": 5,
       "text": [
        "2"
       ]
      }
     ],
     "prompt_number": 5
    },
    {
     "cell_type": "code",
     "collapsed": false,
     "input": [],
     "language": "python",
     "metadata": {},
     "outputs": []
    }
   ],
   "metadata": {}
  }
 ]
}