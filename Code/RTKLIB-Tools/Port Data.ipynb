{
 "metadata": {
  "name": "Port Data"
 },
 "nbformat": 3,
 "nbformat_minor": 0,
 "worksheets": [
  {
   "cells": [
    {
     "cell_type": "code",
     "collapsed": false,
     "input": [
      "from matplotlib import pyplot, mpl\n",
      "from pandas.lib import Timestamp\n",
      "import pandas as pd\n",
      "import scipy as sp\n",
      "import numpy as np\n",
      "import pylab as pl\n",
      "import geopy as gp\n",
      "import sklearn as skp\n",
      "from plot_utils import *\n",
      "from file_utils import *\n",
      "from rtklib_utils import *"
     ],
     "language": "python",
     "metadata": {},
     "outputs": [],
     "prompt_number": 6
    },
    {
     "cell_type": "code",
     "collapsed": false,
     "input": [
      "indir = '/home/ruffin/Documents/Data/in/'\n",
      "outdir = '/home/ruffin/Documents/Data/out/'\n",
      "indir = checkDir(indir,'r')\n",
      "outdir = checkDir(outdir,'r')"
     ],
     "language": "python",
     "metadata": {},
     "outputs": [
      {
       "output_type": "stream",
       "stream": "stdout",
       "text": [
        "Checking directory: /home/ruffin/Documents/Data/in/\n",
        "Checking directory: /home/ruffin/Documents/Data/out/\n"
       ]
      }
     ],
     "prompt_number": 7
    },
    {
     "cell_type": "code",
     "collapsed": false,
     "input": [
      "columns = [['%_GPST', 'latitude(deg)', 'longitude(deg)', 'height(m)', 'Q', 'ns', 'sdn(m)', 'sde(m)', 'sdu(m)', 'sdne(m)', 'sdeu(m)', 'sdun(m)', 'age(s)', 'ratio', 'sd(m)', 'dist(m)', 'distn(m)', 'diste(m)', 'distu(m)']]\n",
      "df = pd.DataFrame(columns=columns)\n",
      "folders = findFolders(outdir)\n",
      "for folder in folders:\n",
      "    df = df.append(buildDataFrame(outdir, folder))"
     ],
     "language": "python",
     "metadata": {},
     "outputs": [
      {
       "output_type": "stream",
       "stream": "stdout",
       "text": [
        "qmin: 1\n",
        "qmins: 4765\n",
        "FlagStaff_center\n",
        "40.4405059988181 -79.94593994784482 255.68115167410744\n",
        "qmin:"
       ]
      },
      {
       "output_type": "stream",
       "stream": "stdout",
       "text": [
        " 2\n",
        "qmins: 4779\n",
        "TopBridge_SW\n",
        "40.441527345699484 -79.94980929566003 241.9984812094578\n",
        "qmin:"
       ]
      },
      {
       "output_type": "stream",
       "stream": "stdout",
       "text": [
        " 2\n",
        "qmins: 3343\n",
        "UnderBridge_S\n",
        "40.44105268052853 -79.94975641651303 217.8915406820224\n",
        "qmin:"
       ]
      },
      {
       "output_type": "stream",
       "stream": "stdout",
       "text": [
        " 2\n",
        "qmins: 4643\n",
        "TopBridge_NE\n",
        "40.44108600610009 -79.94852605198628 243.5172842989446\n",
        "qmin:"
       ]
      },
      {
       "output_type": "stream",
       "stream": "stdout",
       "text": [
        " 1\n",
        "qmins: 4723\n",
        "TopBridge_SE\n",
        "40.44090406585365 -79.9487035788618 243.82974308943085\n",
        "qmin:"
       ]
      },
      {
       "output_type": "stream",
       "stream": "stdout",
       "text": [
        " 2\n",
        "qmins: 4676\n",
        "CMU_center\n",
        "40.44181433695109 -79.94395803441742 261.3698438408897\n",
        "qmin:"
       ]
      },
      {
       "output_type": "stream",
       "stream": "stdout",
       "text": [
        " 1\n",
        "qmins: 4356\n",
        "TopBridge_NW\n",
        "40.44170731410425 -79.94963862906486 241.9501511614055\n"
       ]
      }
     ],
     "prompt_number": 8
    },
    {
     "cell_type": "code",
     "collapsed": false,
     "input": [
      "df.to_csv(outdir + 'DataFrame.csv')"
     ],
     "language": "python",
     "metadata": {},
     "outputs": [],
     "prompt_number": 9
    },
    {
     "cell_type": "code",
     "collapsed": false,
     "input": [
      "#df['latitude(deg)'].mean()"
     ],
     "language": "python",
     "metadata": {},
     "outputs": [],
     "prompt_number": 10
    },
    {
     "cell_type": "code",
     "collapsed": false,
     "input": [],
     "language": "python",
     "metadata": {},
     "outputs": [],
     "prompt_number": 10
    }
   ],
   "metadata": {}
  }
 ]
}